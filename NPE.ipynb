{
 "cells": [
  {
   "cell_type": "markdown",
   "metadata": {},
   "source": [
    "# Neural Posterior Estimation\n",
    "\n",
    "In this notebook we train a Mixture Density Network (MDN) for Neural Posterior Estimation (NPE).\n",
    "\n",
    "In this example we will:\n",
    "1. Generate some simulated data.\n",
    "2. Train a MDN.\n",
    "3. Make predictions for the model parameters posterior."
   ]
  },
  {
   "cell_type": "code",
   "execution_count": 1,
   "metadata": {},
   "outputs": [],
   "source": [
    "import numpy as np\n",
    "import matplotlib.pyplot as plt\n",
    "from tensorflow.keras.callbacks import ReduceLROnPlateau, EarlyStopping\n",
    "from tensorflow.keras.models import Model\n",
    "from tensorflow.keras.layers import Dense, Input, Dropout\n",
    "from tensorflow.keras.optimizers import Adam\n",
    "import tensorflow_probability as tfp\n",
    "import tensorflow.math as tfm\n",
    "from sklearn.preprocessing import StandardScaler, MinMaxScaler"
   ]
  },
  {
   "cell_type": "markdown",
   "metadata": {},
   "source": [
    "## 1. Generating some data\n",
    "\n",
    "Like many all of the other notebooks in this repo we start by simulating our data. For the full version of this see `MCMC_zeus.ipynb`."
   ]
  },
  {
   "cell_type": "code",
   "execution_count": 2,
   "metadata": {},
   "outputs": [
    {
     "data": {
      "image/png": "[encoded data removed]",
      "text/plain": [
       "<Figure size 504x360 with 2 Axes>"
      ]
     },
     "metadata": {
      "needs_background": "light"
     },
     "output_type": "display_data"
    }
   ],
   "source": [
    "np.random.seed(100) # We set the random seed for numpy so we get the\n",
    "                    # same synthetic data each time the notebook is run.\n",
    "\n",
    "def straight_line(x, m, c):\n",
    "    ''' A straight line model: y = m*x + c '''\n",
    "    return m*x + c\n",
    "\n",
    "m_true = 3.5 \n",
    "c_true = 1.2 \n",
    "\n",
    "num_points = 70\n",
    "x = np.linspace(0, 10, num_points)\n",
    "\n",
    "sigma = 3.0\n",
    "\n",
    "data = np.random.normal(loc=straight_line(x, m_true, c_true), scale=sigma)\n",
    "\n",
    "fig, ax = plt.subplots(2,1,sharex=True, figsize=(7,5), gridspec_kw={'height_ratios': [2, 1]})\n",
    "\n",
    "ax[0].errorbar(x, data, yerr=sigma, fmt=\"o\", color='k', zorder=1, label='Data')\n",
    "ax[0].plot(x, straight_line(x, m_true, c_true), '-', lw=2, label='Model')\n",
    "ax[0].legend()\n",
    "ax[0].set_ylabel(r'$f(x)$')\n",
    "\n",
    "ax[1].errorbar(x, (data-straight_line(x, m_true, c_true))/sigma, yerr=1., fmt=\"o\")\n",
    "ax[1].axhline(0., linestyle='--', color='grey')\n",
    "ax[1].axhspan(-1,1, alpha=0.1, color='grey')\n",
    "ax[1].axhspan(-2,2, alpha=0.1, color='grey')\n",
    "ax[1].set_ylim(-3,3)\n",
    "ax[1].set_xlabel(r'$x$')\n",
    "ax[1].set_ylabel(r'$\\Delta f \\ / \\ \\sigma$')\n",
    "\n",
    "plt.tight_layout()\n",
    "plt.show()"
   ]
  },
  {
   "cell_type": "markdown",
   "metadata": {},
   "source": [
    "## 2. Train a MDN.\n",
    "\n",
    "We start by defining the functions required to generate the necessary training data.\n",
    "\n",
    "First we define a function that allows us to randomly sample from the prior. As with all other notebooks in this repo our prior takes the form of a uniform prior on the intercept $c \\sim \\mathcal{U}(-10,10)$ and a normal prior on the gradient $m \\sim \\mathcal{N}(3, 10)$."
   ]
  },
  {
   "cell_type": "code",
   "execution_count": 3,
   "metadata": {},
   "outputs": [],
   "source": [
    "def prior(N):\n",
    "    \n",
    "    rand_c = np.random.uniform(-10., 10., size=(N, ))\n",
    "    rand_m = np.random.normal(loc=3., scale=10., size=(N, ))\n",
    "    \n",
    "    return np.vstack([rand_m, rand_c]).T"
   ]
  },
  {
   "cell_type": "markdown",
   "metadata": {},
   "source": [
    "Next we define a 'simulator' function. This function generates simulated observations by making model predictions and introduces noise at the same level that we have in our data."
   ]
  },
  {
   "cell_type": "code",
   "execution_count": 4,
   "metadata": {},
   "outputs": [],
   "source": [
    "def simulator(theta, sigma, x):\n",
    "    \n",
    "    models = theta[:,0]*x.reshape(-1,1) + theta[:,1]\n",
    "\n",
    "    return np.random.normal(loc=models, scale=sigma).T"
   ]
  },
  {
   "cell_type": "markdown",
   "metadata": {},
   "source": [
    "We can now use these functions to generate some training data. We generate 50,000 examples, this is similar to the total number of likelihood evaluations when running our MCMC, see `MCMC_zeus.ipynb`. We use 40,000 for training and 10,000 for validation."
   ]
  },
  {
   "cell_type": "code",
   "execution_count": 5,
   "metadata": {},
   "outputs": [
    {
     "data": {
      "text/plain": [
       "((40000, 2), (40000, 70))"
      ]
     },
     "execution_count": 5,
     "metadata": {},
     "output_type": "execute_result"
    }
   ],
   "source": [
    "trainX = prior(40000)\n",
    "trainY = simulator(trainX, sigma, x)\n",
    "\n",
    "valX = prior(10000)\n",
    "valY = simulator(valX, sigma, x)\n",
    "\n",
    "trainX.shape, trainY.shape"
   ]
  },
  {
   "cell_type": "markdown",
   "metadata": {},
   "source": [
    "Before we train our MDN we standardize our training and validations data."
   ]
  },
  {
   "cell_type": "code",
   "execution_count": 6,
   "metadata": {},
   "outputs": [],
   "source": [
    "yscaler = StandardScaler()\n",
    "xscaler = StandardScaler()\n",
    "\n",
    "trainy = yscaler.fit_transform(trainY)\n",
    "valy = yscaler.transform(valY)\n",
    "\n",
    "trainx = xscaler.fit_transform(trainX)\n",
    "valx = xscaler.transform(valX)"
   ]
  },
  {
   "cell_type": "markdown",
   "metadata": {},
   "source": [
    "Now we define our MDN. A MDN predicts parameters of a series of component distributions, e.g. a series of Gaussians. The distribution predicted by the network can be written as\n",
    "\n",
    "$$P(x|y, w) = \\sum_i^{n_c} r_i(y, w)\\mathcal{N}\\left[\\mu_i(y,w), C_i(y,w)\\right],$$"
   ]
  },
  {
   "cell_type": "markdown",
   "metadata": {},
   "source": [
    "where $w$ are the weights of the MDN, and $n_c$ is the number of component Gaussians.\n",
    "\n",
    "For this simple example we only need to use a single component. It is very simple to define this network using [tensorflow-probability](https://www.tensorflow.org/probability/overview)."
   ]
  },
  {
   "cell_type": "code",
   "execution_count": 7,
   "metadata": {},
   "outputs": [],
   "source": [
    "input_layer1 = Input(shape=(int(trainy.shape[1]),))\n",
    "\n",
    "d1 = Dense(25, activation = 'tanh')(input_layer1)\n",
    "d2 = Dense(25, activation = 'tanh')(d1)\n",
    "d3 = Dense(25, activation = 'tanh')(d2)\n",
    "d4 = Dense(25, activation = 'tanh')(d3)\n",
    "d5 = Dense(25, activation = 'tanh')(d4)\n",
    "output = Dense(5, activation = 'linear')(d5)\n",
    "\n",
    "dist1 = tfp.layers.MultivariateNormalTriL(2, name=\"dist1\")(output)\n",
    "\n",
    "MDN = Model(inputs=input_layer1, outputs=dist1)"
   ]
  },
  {
   "cell_type": "markdown",
   "metadata": {},
   "source": [
    "Our loss function is the negative log-probability $-\\ln{P(x|y, w)}$."
   ]
  },
  {
   "cell_type": "code",
   "execution_count": 8,
   "metadata": {},
   "outputs": [],
   "source": [
    "neglogprob = lambda y, p_y: -p_y.log_prob(y)"
   ]
  },
  {
   "cell_type": "markdown",
   "metadata": {},
   "source": [
    "We can now train our MDN. We define a callback that will terminate training when the loss function plateaus."
   ]
  },
  {
   "cell_type": "code",
   "execution_count": 9,
   "metadata": {},
   "outputs": [
    {
     "name": "stderr",
     "output_type": "stream",
     "text": [
      "/Users/jamie/opt/anaconda3/envs/tf_prob/lib/python3.7/site-packages/keras/optimizer_v2/adam.py:105: UserWarning: The `lr` argument is deprecated, use `learning_rate` instead.\n",
      "  super(Adam, self).__init__(name, **kwargs)\n"
     ]
    },
    {
     "name": "stdout",
     "output_type": "stream",
     "text": [
      "Epoch 1/200\n",
      "2500/2500 [==============================] - 3s 1ms/step - loss: 1.7356 - val_loss: 1.0662\n",
      "Epoch 2/200\n",
      "2500/2500 [==============================] - 3s 1ms/step - loss: 0.6788 - val_loss: 0.2478\n",
      "Epoch 3/200\n",
      "2500/2500 [==============================] - 3s 1ms/step - loss: -0.0345 - val_loss: -0.2581\n",
      "Epoch 4/200\n",
      "2500/2500 [==============================] - 2s 992us/step - loss: -0.3806 - val_loss: -0.5137\n",
      "Epoch 5/200\n",
      "2500/2500 [==============================] - 2s 989us/step - loss: -0.6007 - val_loss: -0.7095\n",
      "Epoch 6/200\n",
      "2500/2500 [==============================] - 2s 983us/step - loss: -0.7815 - val_loss: -0.8756\n",
      "Epoch 7/200\n",
      "2500/2500 [==============================] - 2s 992us/step - loss: -0.9391 - val_loss: -1.0265\n",
      "Epoch 8/200\n",
      "2500/2500 [==============================] - 2s 995us/step - loss: -1.0802 - val_loss: -1.1691\n",
      "Epoch 9/200\n",
      "2500/2500 [==============================] - 2s 993us/step - loss: -1.2079 - val_loss: -1.2754\n",
      "Epoch 10/200\n",
      "2500/2500 [==============================] - 2s 998us/step - loss: -1.3211 - val_loss: -1.3999\n",
      "Epoch 11/200\n",
      "2500/2500 [==============================] - 2s 991us/step - loss: -1.4228 - val_loss: -1.4949\n",
      "Epoch 12/200\n",
      "2500/2500 [==============================] - 2s 995us/step - loss: -1.5154 - val_loss: -1.5862\n",
      "Epoch 13/200\n",
      "2500/2500 [==============================] - 2s 987us/step - loss: -1.5991 - val_loss: -1.6670\n",
      "Epoch 14/200\n",
      "2500/2500 [==============================] - 2s 998us/step - loss: -1.6764 - val_loss: -1.7402\n",
      "Epoch 15/200\n",
      "2500/2500 [==============================] - 2s 993us/step - loss: -1.7483 - val_loss: -1.8004\n",
      "Epoch 16/200\n",
      "2500/2500 [==============================] - 3s 1ms/step - loss: -1.8151 - val_loss: -1.8693\n",
      "Epoch 17/200\n",
      "2500/2500 [==============================] - 3s 1ms/step - loss: -1.8750 - val_loss: -1.9288\n",
      "Epoch 18/200\n",
      "2500/2500 [==============================] - 3s 1ms/step - loss: -1.9325 - val_loss: -1.9737\n",
      "Epoch 19/200\n",
      "2500/2500 [==============================] - 3s 1ms/step - loss: -1.9867 - val_loss: -2.0339\n",
      "Epoch 20/200\n",
      "2500/2500 [==============================] - 3s 1ms/step - loss: -2.0362 - val_loss: -2.0760\n",
      "Epoch 21/200\n",
      "2500/2500 [==============================] - 3s 1ms/step - loss: -2.0828 - val_loss: -2.1240\n",
      "Epoch 22/200\n",
      "2500/2500 [==============================] - 3s 1ms/step - loss: -2.1281 - val_loss: -2.1657\n",
      "Epoch 23/200\n",
      "2500/2500 [==============================] - 3s 1ms/step - loss: -2.1691 - val_loss: -2.2039\n",
      "Epoch 24/200\n",
      "2500/2500 [==============================] - 3s 1ms/step - loss: -2.2092 - val_loss: -2.2282\n",
      "Epoch 25/200\n",
      "2500/2500 [==============================] - 3s 1ms/step - loss: -2.2466 - val_loss: -2.2738\n",
      "Epoch 26/200\n",
      "2500/2500 [==============================] - 3s 1ms/step - loss: -2.2824 - val_loss: -2.2952\n",
      "Epoch 27/200\n",
      "2500/2500 [==============================] - 3s 1ms/step - loss: -2.3164 - val_loss: -2.3415\n",
      "Epoch 28/200\n",
      "2500/2500 [==============================] - 3s 1ms/step - loss: -2.3488 - val_loss: -2.3702\n",
      "Epoch 29/200\n",
      "2500/2500 [==============================] - 3s 1ms/step - loss: -2.3797 - val_loss: -2.3984\n",
      "Epoch 30/200\n",
      "2500/2500 [==============================] - 3s 1ms/step - loss: -2.4112 - val_loss: -2.4309\n",
      "Epoch 31/200\n",
      "2500/2500 [==============================] - 3s 1ms/step - loss: -2.4402 - val_loss: -2.4620\n",
      "Epoch 32/200\n",
      "2500/2500 [==============================] - 3s 1ms/step - loss: -2.4680 - val_loss: -2.4880\n",
      "Epoch 33/200\n",
      "2500/2500 [==============================] - 3s 1ms/step - loss: -2.4974 - val_loss: -2.5164\n",
      "Epoch 34/200\n",
      "2500/2500 [==============================] - 3s 1ms/step - loss: -2.5225 - val_loss: -2.5385\n",
      "Epoch 35/200\n",
      "2500/2500 [==============================] - 3s 1ms/step - loss: -2.5496 - val_loss: -2.5596\n",
      "Epoch 36/200\n",
      "2500/2500 [==============================] - 3s 1ms/step - loss: -2.5753 - val_loss: -2.5858\n",
      "Epoch 37/200\n",
      "2500/2500 [==============================] - 3s 1ms/step - loss: -2.5992 - val_loss: -2.5937\n",
      "Epoch 38/200\n",
      "2500/2500 [==============================] - 3s 1ms/step - loss: -2.6231 - val_loss: -2.6285\n",
      "Epoch 39/200\n",
      "2500/2500 [==============================] - 3s 1ms/step - loss: -2.6466 - val_loss: -2.6620\n",
      "Epoch 40/200\n",
      "2500/2500 [==============================] - 3s 1ms/step - loss: -2.6690 - val_loss: -2.6725\n",
      "Epoch 41/200\n",
      "2500/2500 [==============================] - 3s 1ms/step - loss: -2.6915 - val_loss: -2.7023\n",
      "Epoch 42/200\n",
      "2500/2500 [==============================] - 3s 1ms/step - loss: -2.7134 - val_loss: -2.7145\n",
      "Epoch 43/200\n",
      "2500/2500 [==============================] - 3s 1ms/step - loss: -2.7355 - val_loss: -2.7371\n",
      "Epoch 44/200\n",
      "2500/2500 [==============================] - 3s 1ms/step - loss: -2.7553 - val_loss: -2.7610\n",
      "Epoch 45/200\n",
      "2500/2500 [==============================] - 3s 1ms/step - loss: -2.7770 - val_loss: -2.7907\n",
      "Epoch 46/200\n",
      "2500/2500 [==============================] - 3s 1ms/step - loss: -2.7968 - val_loss: -2.7876\n",
      "Epoch 47/200\n",
      "2500/2500 [==============================] - 3s 1ms/step - loss: -2.8169 - val_loss: -2.8260\n",
      "Epoch 48/200\n",
      "2500/2500 [==============================] - 3s 1ms/step - loss: -2.8374 - val_loss: -2.8499\n",
      "Epoch 49/200\n",
      "2500/2500 [==============================] - 3s 1ms/step - loss: -2.8558 - val_loss: -2.8530\n",
      "Epoch 50/200\n",
      "2500/2500 [==============================] - 3s 1ms/step - loss: -2.8756 - val_loss: -2.8812\n",
      "Epoch 51/200\n",
      "2500/2500 [==============================] - 3s 1ms/step - loss: -2.8920 - val_loss: -2.8964\n",
      "Epoch 52/200\n",
      "2500/2500 [==============================] - 3s 1ms/step - loss: -2.9109 - val_loss: -2.9221\n",
      "Epoch 53/200\n",
      "2500/2500 [==============================] - 3s 1ms/step - loss: -2.9286 - val_loss: -2.9345\n",
      "Epoch 54/200\n",
      "2500/2500 [==============================] - 3s 1ms/step - loss: -2.9459 - val_loss: -2.9471\n",
      "Epoch 55/200\n",
      "2500/2500 [==============================] - 3s 1ms/step - loss: -2.9615 - val_loss: -2.9544\n",
      "Epoch 56/200\n",
      "2500/2500 [==============================] - 3s 1ms/step - loss: -2.9785 - val_loss: -2.9837\n",
      "Epoch 57/200\n",
      "2500/2500 [==============================] - 3s 1ms/step - loss: -2.9946 - val_loss: -3.0008\n",
      "Epoch 58/200\n",
      "2500/2500 [==============================] - 3s 1ms/step - loss: -3.0105 - val_loss: -3.0104\n",
      "Epoch 59/200\n",
      "2500/2500 [==============================] - 3s 1ms/step - loss: -3.0276 - val_loss: -3.0093\n",
      "Epoch 60/200\n",
      "2500/2500 [==============================] - 3s 1ms/step - loss: -3.0413 - val_loss: -3.0475\n",
      "Epoch 61/200\n",
      "2500/2500 [==============================] - 3s 1ms/step - loss: -3.0579 - val_loss: -3.0566\n",
      "Epoch 62/200\n",
      "2500/2500 [==============================] - 3s 1ms/step - loss: -3.0725 - val_loss: -3.0701\n",
      "Epoch 63/200\n",
      "2500/2500 [==============================] - 3s 1ms/step - loss: -3.0861 - val_loss: -3.0852\n",
      "Epoch 64/200\n",
      "2500/2500 [==============================] - 3s 1ms/step - loss: -3.1009 - val_loss: -3.0985\n",
      "Epoch 65/200\n",
      "2500/2500 [==============================] - 3s 1ms/step - loss: -3.1150 - val_loss: -3.1220\n",
      "Epoch 66/200\n",
      "2500/2500 [==============================] - 3s 1ms/step - loss: -3.1295 - val_loss: -3.1197\n",
      "Epoch 67/200\n",
      "2500/2500 [==============================] - 3s 1ms/step - loss: -3.1425 - val_loss: -3.1445\n",
      "Epoch 68/200\n",
      "2500/2500 [==============================] - 3s 1ms/step - loss: -3.1547 - val_loss: -3.1437\n",
      "Epoch 69/200\n",
      "2500/2500 [==============================] - 3s 1ms/step - loss: -3.1701 - val_loss: -3.1556\n",
      "Epoch 70/200\n",
      "2500/2500 [==============================] - 3s 1ms/step - loss: -3.1803 - val_loss: -3.1836\n",
      "Epoch 71/200\n",
      "2500/2500 [==============================] - 3s 1ms/step - loss: -3.1939 - val_loss: -3.1982\n",
      "Epoch 72/200\n",
      "2500/2500 [==============================] - 3s 1ms/step - loss: -3.2053 - val_loss: -3.2075\n",
      "Epoch 73/200\n",
      "2500/2500 [==============================] - 3s 1ms/step - loss: -3.2167 - val_loss: -3.2038\n",
      "Epoch 74/200\n",
      "2500/2500 [==============================] - 3s 1ms/step - loss: -3.2292 - val_loss: -3.1941\n",
      "Epoch 75/200\n",
      "2500/2500 [==============================] - 3s 1ms/step - loss: -3.2417 - val_loss: -3.2235\n",
      "Epoch 76/200\n",
      "2500/2500 [==============================] - 3s 1ms/step - loss: -3.2501 - val_loss: -3.2494\n",
      "Epoch 77/200\n",
      "2500/2500 [==============================] - 3s 1ms/step - loss: -3.2625 - val_loss: -3.2626\n",
      "Epoch 78/200\n"
     ]
    },
    {
     "name": "stdout",
     "output_type": "stream",
     "text": [
      "2500/2500 [==============================] - 3s 1ms/step - loss: -3.2741 - val_loss: -3.2698\n",
      "Epoch 79/200\n",
      "2500/2500 [==============================] - 3s 1ms/step - loss: -3.2834 - val_loss: -3.2809\n",
      "Epoch 80/200\n",
      "2500/2500 [==============================] - 3s 1ms/step - loss: -3.2931 - val_loss: -3.2888\n",
      "Epoch 81/200\n",
      "2500/2500 [==============================] - 3s 1ms/step - loss: -3.3050 - val_loss: -3.3032\n",
      "Epoch 82/200\n",
      "2500/2500 [==============================] - 3s 1ms/step - loss: -3.3137 - val_loss: -3.3120\n",
      "Epoch 83/200\n",
      "2500/2500 [==============================] - 3s 1ms/step - loss: -3.3223 - val_loss: -3.3165\n",
      "Epoch 84/200\n",
      "2500/2500 [==============================] - 3s 1ms/step - loss: -3.3322 - val_loss: -3.3292\n",
      "Epoch 85/200\n",
      "2500/2500 [==============================] - 3s 1ms/step - loss: -3.3427 - val_loss: -3.3353\n",
      "Epoch 86/200\n",
      "2500/2500 [==============================] - 3s 1ms/step - loss: -3.3527 - val_loss: -3.3414\n",
      "Epoch 87/200\n",
      "2500/2500 [==============================] - 3s 1ms/step - loss: -3.3594 - val_loss: -3.3524\n",
      "Epoch 88/200\n",
      "2500/2500 [==============================] - 3s 1ms/step - loss: -3.3688 - val_loss: -3.3637\n",
      "Epoch 89/200\n",
      "2500/2500 [==============================] - 3s 1ms/step - loss: -3.3766 - val_loss: -3.3634\n",
      "Epoch 90/200\n",
      "2500/2500 [==============================] - 3s 1ms/step - loss: -3.3839 - val_loss: -3.3481\n",
      "Epoch 91/200\n",
      "2500/2500 [==============================] - 3s 1ms/step - loss: -3.3930 - val_loss: -3.3845\n",
      "Epoch 92/200\n",
      "2500/2500 [==============================] - 3s 1ms/step - loss: -3.4034 - val_loss: -3.3819\n",
      "Epoch 93/200\n",
      "2500/2500 [==============================] - 3s 1ms/step - loss: -3.4104 - val_loss: -3.3901\n",
      "Epoch 94/200\n",
      "2500/2500 [==============================] - 3s 1ms/step - loss: -3.4176 - val_loss: -3.4104\n",
      "Epoch 95/200\n",
      "2500/2500 [==============================] - 3s 1ms/step - loss: -3.4256 - val_loss: -3.4275\n",
      "Epoch 96/200\n",
      "2500/2500 [==============================] - 3s 1ms/step - loss: -3.4330 - val_loss: -3.4310\n",
      "Epoch 97/200\n",
      "2500/2500 [==============================] - 3s 1ms/step - loss: -3.4390 - val_loss: -3.3775\n",
      "Epoch 98/200\n",
      "2500/2500 [==============================] - 3s 1ms/step - loss: -3.4462 - val_loss: -3.4387\n",
      "Epoch 99/200\n",
      "2500/2500 [==============================] - 3s 1ms/step - loss: -3.4521 - val_loss: -3.4455\n",
      "Epoch 100/200\n",
      "2500/2500 [==============================] - 3s 1ms/step - loss: -3.4608 - val_loss: -3.4568\n",
      "Epoch 101/200\n",
      "2500/2500 [==============================] - 3s 1ms/step - loss: -3.4685 - val_loss: -3.4630\n",
      "Epoch 102/200\n",
      "2500/2500 [==============================] - 3s 1ms/step - loss: -3.4746 - val_loss: -3.4478\n",
      "Epoch 103/200\n",
      "2500/2500 [==============================] - 3s 1ms/step - loss: -3.4800 - val_loss: -3.4622\n",
      "Epoch 104/200\n",
      "2500/2500 [==============================] - 3s 1ms/step - loss: -3.4861 - val_loss: -3.4850\n",
      "Epoch 105/200\n",
      "2500/2500 [==============================] - 3s 1ms/step - loss: -3.4936 - val_loss: -3.4773\n",
      "Epoch 106/200\n",
      "2500/2500 [==============================] - 3s 1ms/step - loss: -3.5018 - val_loss: -3.4815\n",
      "Epoch 107/200\n",
      "2500/2500 [==============================] - 3s 1ms/step - loss: -3.5058 - val_loss: -3.4992\n",
      "Epoch 108/200\n",
      "2500/2500 [==============================] - 3s 1ms/step - loss: -3.5110 - val_loss: -3.4964\n",
      "Epoch 109/200\n",
      "2500/2500 [==============================] - 3s 1ms/step - loss: -3.5195 - val_loss: -3.5102\n",
      "Epoch 110/200\n",
      "2500/2500 [==============================] - 3s 1ms/step - loss: -3.5261 - val_loss: -3.5095\n",
      "Epoch 111/200\n",
      "2500/2500 [==============================] - 3s 1ms/step - loss: -3.5287 - val_loss: -3.4945\n",
      "Epoch 112/200\n",
      "2500/2500 [==============================] - 3s 1ms/step - loss: -3.5337 - val_loss: -3.5006\n",
      "Epoch 113/200\n",
      "2500/2500 [==============================] - 3s 1ms/step - loss: -3.5408 - val_loss: -3.5322\n",
      "Epoch 114/200\n",
      "2500/2500 [==============================] - 3s 1ms/step - loss: -3.5453 - val_loss: -3.5366\n",
      "Epoch 115/200\n",
      "2500/2500 [==============================] - 3s 1ms/step - loss: -3.5521 - val_loss: -3.5113\n",
      "Epoch 116/200\n",
      "2500/2500 [==============================] - 3s 1ms/step - loss: -3.5562 - val_loss: -3.5337\n",
      "Epoch 117/200\n",
      "2500/2500 [==============================] - 3s 1ms/step - loss: -3.5621 - val_loss: -3.5351\n",
      "Epoch 118/200\n",
      "2500/2500 [==============================] - 3s 1ms/step - loss: -3.5672 - val_loss: -3.5636\n",
      "Epoch 119/200\n",
      "2500/2500 [==============================] - 3s 1ms/step - loss: -3.5719 - val_loss: -3.5681\n",
      "Epoch 120/200\n",
      "2500/2500 [==============================] - 3s 1ms/step - loss: -3.5766 - val_loss: -3.5666\n",
      "Epoch 121/200\n",
      "2500/2500 [==============================] - 3s 1ms/step - loss: -3.5811 - val_loss: -3.5606\n",
      "Epoch 122/200\n",
      "2500/2500 [==============================] - 3s 1ms/step - loss: -3.5874 - val_loss: -3.5674\n",
      "Epoch 123/200\n",
      "2500/2500 [==============================] - 3s 1ms/step - loss: -3.5911 - val_loss: -3.5830\n",
      "Epoch 124/200\n",
      "2500/2500 [==============================] - 3s 1ms/step - loss: -3.5978 - val_loss: -3.5726\n",
      "Epoch 125/200\n",
      "2500/2500 [==============================] - 3s 1ms/step - loss: -3.6011 - val_loss: -3.5989\n",
      "Epoch 126/200\n",
      "2500/2500 [==============================] - 3s 1ms/step - loss: -3.6076 - val_loss: -3.6022\n",
      "Epoch 127/200\n",
      "2500/2500 [==============================] - 3s 1ms/step - loss: -3.6109 - val_loss: -3.6098\n",
      "Epoch 128/200\n",
      "2500/2500 [==============================] - 3s 1ms/step - loss: -3.6146 - val_loss: -3.5918\n",
      "Epoch 129/200\n",
      "2500/2500 [==============================] - 3s 1ms/step - loss: -3.6188 - val_loss: -3.6158\n",
      "Epoch 130/200\n",
      "2500/2500 [==============================] - 3s 1ms/step - loss: -3.6244 - val_loss: -3.6123\n",
      "Epoch 131/200\n",
      "2500/2500 [==============================] - 3s 1ms/step - loss: -3.6284 - val_loss: -3.6196\n",
      "Epoch 132/200\n",
      "2500/2500 [==============================] - 3s 1ms/step - loss: -3.6319 - val_loss: -3.6324\n",
      "Epoch 133/200\n",
      "2500/2500 [==============================] - 3s 1ms/step - loss: -3.6366 - val_loss: -3.6340\n",
      "Epoch 134/200\n",
      "2500/2500 [==============================] - 3s 1ms/step - loss: -3.6398 - val_loss: -3.6332\n",
      "Epoch 135/200\n",
      "2500/2500 [==============================] - 3s 1ms/step - loss: -3.6453 - val_loss: -3.5952\n",
      "Epoch 136/200\n",
      "2500/2500 [==============================] - 3s 1ms/step - loss: -3.6502 - val_loss: -3.6303\n",
      "Epoch 137/200\n",
      "2500/2500 [==============================] - 3s 1ms/step - loss: -3.6545 - val_loss: -3.6354\n",
      "Epoch 138/200\n",
      "2500/2500 [==============================] - 3s 1ms/step - loss: -3.6564 - val_loss: -3.6478\n",
      "Epoch 139/200\n",
      "2500/2500 [==============================] - 3s 1ms/step - loss: -3.6610 - val_loss: -3.6279\n",
      "Epoch 140/200\n",
      "2500/2500 [==============================] - 3s 1ms/step - loss: -3.6647 - val_loss: -3.6426\n",
      "Epoch 141/200\n",
      "2500/2500 [==============================] - 3s 1ms/step - loss: -3.6677 - val_loss: -3.6300\n",
      "Epoch 142/200\n",
      "2500/2500 [==============================] - 3s 1ms/step - loss: -3.6704 - val_loss: -3.6603\n",
      "Epoch 143/200\n",
      "2500/2500 [==============================] - 3s 1ms/step - loss: -3.6773 - val_loss: -3.6548\n",
      "Epoch 144/200\n",
      "2500/2500 [==============================] - 3s 1ms/step - loss: -3.6795 - val_loss: -3.6574\n",
      "Epoch 145/200\n",
      "2500/2500 [==============================] - 3s 1ms/step - loss: -3.6845 - val_loss: -3.6714\n",
      "Epoch 146/200\n",
      "2500/2500 [==============================] - 3s 1ms/step - loss: -3.6870 - val_loss: -3.6638\n",
      "Epoch 147/200\n",
      "2500/2500 [==============================] - 3s 1ms/step - loss: -3.6907 - val_loss: -3.6845\n",
      "Epoch 148/200\n",
      "2500/2500 [==============================] - 3s 1ms/step - loss: -3.6958 - val_loss: -3.6566\n",
      "Epoch 149/200\n",
      "2500/2500 [==============================] - 3s 1ms/step - loss: -3.6959 - val_loss: -3.6982\n",
      "Epoch 150/200\n",
      "2500/2500 [==============================] - 3s 1ms/step - loss: -3.7030 - val_loss: -3.6875\n",
      "Epoch 151/200\n",
      "2500/2500 [==============================] - 3s 1ms/step - loss: -3.7035 - val_loss: -3.6682\n",
      "Epoch 152/200\n",
      "2500/2500 [==============================] - 3s 1ms/step - loss: -3.7088 - val_loss: -3.6924\n",
      "Epoch 153/200\n",
      "2500/2500 [==============================] - 3s 1ms/step - loss: -3.7118 - val_loss: -3.6979\n",
      "Epoch 154/200\n",
      "2500/2500 [==============================] - 3s 1ms/step - loss: -3.7149 - val_loss: -3.6883\n"
     ]
    },
    {
     "data": {
      "text/plain": [
       "<keras.callbacks.History at 0x7fd7c4a67850>"
      ]
     },
     "execution_count": 9,
     "metadata": {},
     "output_type": "execute_result"
    }
   ],
   "source": [
    "early_stop = EarlyStopping(monitor='val_loss', min_delta=0, patience=5,\n",
    "                           verbose=0, mode='min', baseline=None,\n",
    "                           restore_best_weights=True)\n",
    "callbacks_list = [early_stop]\n",
    "\n",
    "MDN.compile(optimizer=Adam(lr=0.00001), loss=neglogprob)\n",
    "MDN.fit(trainy,trainx, validation_data=[valy, valx] , epochs=200, batch_size=16, verbose=1,\n",
    "        callbacks=callbacks_list)"
   ]
  },
  {
   "cell_type": "markdown",
   "metadata": {},
   "source": [
    "## 3. Making predictions."
   ]
  },
  {
   "cell_type": "markdown",
   "metadata": {},
   "source": [
    "Making predictions is very simple. We however need to make sure we standardize our data in the same way as our training data."
   ]
  },
  {
   "cell_type": "code",
   "execution_count": 10,
   "metadata": {},
   "outputs": [],
   "source": [
    "posterior = MDN(yscaler.transform(data.reshape(1,-1)))"
   ]
  },
  {
   "cell_type": "markdown",
   "metadata": {},
   "source": [
    "We can now generate samples from the prdicted distribution and reverse the standardization so that our samples have physical meaning. We save the samples so that they can be compared to the other methods."
   ]
  },
  {
   "cell_type": "code",
   "execution_count": 11,
   "metadata": {},
   "outputs": [],
   "source": [
    "samples = xscaler.inverse_transform(np.array(posterior.sample(5000)[:,0,:]))\n",
    "np.save(\"NPE_samples\", samples)"
   ]
  }
 ],
 "metadata": {
  "kernelspec": {
   "display_name": "tf_prob",
   "language": "python",
   "name": "tf_prob"
  },
  "language_info": {
   "codemirror_mode": {
    "name": "ipython",
    "version": 3
   },
   "file_extension": ".py",
   "mimetype": "text/x-python",
   "name": "python",
   "nbconvert_exporter": "python",
   "pygments_lexer": "ipython3",
   "version": "3.7.10"
  }
 },
 "nbformat": 4,
 "nbformat_minor": 4
}
