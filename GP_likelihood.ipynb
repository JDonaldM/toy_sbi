{
 "cells": [
  {
   "cell_type": "markdown",
   "metadata": {},
   "source": [
    "# Gaussian Process likelihood\n",
    "\n",
    "In this notebook we demonstrate how to train a Gaussian Process (GP) to act as a synthetic likelihood to accelerate inference. \n",
    "\n",
    "In this example we will:\n",
    "1. Generate some simulated data.\n",
    "2. Train a Gaussian Process (GP) to act as a synthetic likelihood.\n",
    "3. Run an MCMC with our synthetic likelihood."
   ]
  },
  {
   "cell_type": "code",
   "execution_count": 1,
   "metadata": {},
   "outputs": [],
   "source": [
    "import numpy as np\n",
    "import matplotlib.pyplot as plt\n",
    "import zeus\n",
    "from sklearn.preprocessing import StandardScaler\n",
    "from sklearn.gaussian_process import GaussianProcessRegressor\n",
    "from sklearn.gaussian_process.kernels import RBF"
   ]
  },
  {
   "cell_type": "markdown",
   "metadata": {},
   "source": [
    "## 1. Generating some data"
   ]
  },
  {
   "cell_type": "markdown",
   "metadata": {},
   "source": [
    "Like many all of the other notebooks in this repo we start by simulating our data. For the full version of this see `MCMC_zeus.ipynb`."
   ]
  },
  {
   "cell_type": "code",
   "execution_count": 2,
   "metadata": {},
   "outputs": [
    {
     "data": {
      "image/png": "[encoded data removed]",
      "text/plain": [
       "<Figure size 504x360 with 2 Axes>"
      ]
     },
     "metadata": {
      "needs_background": "light"
     },
     "output_type": "display_data"
    }
   ],
   "source": [
    "np.random.seed(100) # We set the random seed for numpy so we get the\n",
    "                    # same synthetic data each time the notebook is run.\n",
    "\n",
    "def straight_line(x, m, c):\n",
    "    ''' A straight line model: y = m*x + c '''\n",
    "    return m*x + c\n",
    "\n",
    "m_true = 3.5 \n",
    "c_true = 1.2 \n",
    "\n",
    "num_points = 70\n",
    "x = np.linspace(0, 10, num_points)\n",
    "\n",
    "sigma = 3.0\n",
    "\n",
    "data = np.random.normal(loc=straight_line(x, m_true, c_true), scale=sigma)\n",
    "\n",
    "fig, ax = plt.subplots(2,1,sharex=True, figsize=(7,5), gridspec_kw={'height_ratios': [2, 1]})\n",
    "\n",
    "ax[0].errorbar(x, data, yerr=sigma, fmt=\"o\", color='k', zorder=1, label='Data')\n",
    "ax[0].plot(x, straight_line(x, m_true, c_true), '-', lw=2, label='Model')\n",
    "ax[0].legend()\n",
    "ax[0].set_ylabel(r'$f(x)$')\n",
    "\n",
    "ax[1].errorbar(x, (data-straight_line(x, m_true, c_true))/sigma, yerr=1., fmt=\"o\")\n",
    "ax[1].axhline(0., linestyle='--', color='grey')\n",
    "ax[1].axhspan(-1,1, alpha=0.1, color='grey')\n",
    "ax[1].axhspan(-2,2, alpha=0.1, color='grey')\n",
    "ax[1].set_ylim(-3,3)\n",
    "ax[1].set_xlabel(r'$x$')\n",
    "ax[1].set_ylabel(r'$\\Delta f \\ / \\ \\sigma$')\n",
    "\n",
    "plt.tight_layout()\n",
    "plt.show()"
   ]
  },
  {
   "cell_type": "markdown",
   "metadata": {},
   "source": [
    "## 2. Synthetic likelihood\n",
    "\n",
    "We will now move onto developing our GP likelihood.\n",
    "\n",
    "A GP is a nonparametric probabilistic machine learning algorithm that can be used for regression or classification tasks. For details see [Rasmussen & Williams (2006)](http://www.gaussianprocess.org/gpml/chapters/RW.pdf). A key part of a GP is the covariance function or *kernel*, this kernel will determine the kind if functions that the GP can approximate. For this is example we use the Radial-Basis Function (RBF) kernel, this has the form \n",
    "\n",
    "$$k(x, x') = \\exp{\\left[-\\frac{(x - x')^2}{2l^2}\\right]}.$$"
   ]
  },
  {
   "cell_type": "markdown",
   "metadata": {},
   "source": [
    "We will be using the scikit-learn implementation of the GP. In the cell below we define our kernel and initalise the GP."
   ]
  },
  {
   "cell_type": "code",
   "execution_count": 3,
   "metadata": {},
   "outputs": [],
   "source": [
    "kernel = 1 * RBF(length_scale=1.0, length_scale_bounds=(1e-2, 1e2))\n",
    "gaussian_process = GaussianProcessRegressor(kernel=kernel, n_restarts_optimizer=9)"
   ]
  },
  {
   "cell_type": "markdown",
   "metadata": {},
   "source": [
    "To generate for our GP we will run a short MCMC, this MCMC will not converge but will provide samples in the right region of the parameter space. To run this short chain we will be using the same log-prior, log-likelihood, and log-probability defenitions from `MCMC_zeus.ipynb`."
   ]
  },
  {
   "cell_type": "code",
   "execution_count": 4,
   "metadata": {},
   "outputs": [],
   "source": [
    "def logprior(theta):\n",
    "    ''' The natural logarithm of the prior probability. '''\n",
    "\n",
    "    lp = 0.\n",
    "\n",
    "    # unpack the model parameters from the tuple\n",
    "    m, c = theta\n",
    "\n",
    "    # uniform prior on c\n",
    "    cmin = -10. # lower range of prior\n",
    "    cmax = 10.  # upper range of prior\n",
    "\n",
    "    # set prior to 1 (log prior to 0) if in the range and zero (-inf) outside the range\n",
    "    lp = 0. if cmin < c < cmax else -np.inf\n",
    "\n",
    "    # Gaussian prior on m\n",
    "    mmu = 3.     # mean of the Gaussian prior\n",
    "    msigma = 10. # standard deviation of the Gaussian prior\n",
    "    lp -= 0.5*((m - mmu)/msigma)**2\n",
    "\n",
    "    return lp\n",
    "\n",
    "def loglike(theta, data, sigma, x):\n",
    "    '''The natural logarithm of the likelihood.'''\n",
    "\n",
    "    # unpack the model parameters\n",
    "    m, c = theta\n",
    "\n",
    "    # evaluate the model\n",
    "    md = straight_line(x, m, c)\n",
    "\n",
    "    # return the log likelihood\n",
    "    return -0.5 * np.sum(((md - data)/sigma)**2)\n",
    "\n",
    "def logpost(theta, data, sigma, x):\n",
    "    '''The natural logarithm of the posterior.'''\n",
    "\n",
    "    return logprior(theta) + loglike(theta, data, sigma, x), loglike(theta, data, sigma, x)"
   ]
  },
  {
   "cell_type": "markdown",
   "metadata": {},
   "source": [
    "We should note that we have made a small modification to `logpost`. This function now returns a `tuple` containing the sum of the likelihood and the prior, and the likelihood evaluation. This means we can log the likelihood evaluations as the MCMC runs such that we don't have to recompute them. This is something that would be essential if our model was more expensive to evaluate."
   ]
  },
  {
   "cell_type": "code",
   "execution_count": 5,
   "metadata": {},
   "outputs": [
    {
     "name": "stderr",
     "output_type": "stream",
     "text": [
      "Initialising ensemble of 4 walkers...\n",
      "Sampling progress : 100%|██████████| 500/500 [00:00<00:00, 552.86it/s]\n"
     ]
    }
   ],
   "source": [
    "num_dim=2\n",
    "num_walkers=4\n",
    "\n",
    "random_m = np.random.normal(loc=3, scale=10, size=(num_walkers, ))\n",
    "random_c = np.random.uniform(-10,10, size=(num_walkers, ))\n",
    "init_pos = np.vstack([random_m, random_c]).T\n",
    "\n",
    "sampler = zeus.EnsembleSampler(num_walkers, num_dim, logpost, args=[data, sigma, x])\n",
    "sampler.run_mcmc(init_pos, 500)"
   ]
  },
  {
   "cell_type": "markdown",
   "metadata": {},
   "source": [
    "We concatenate all the samples and the likelihood evaluations from the walkers."
   ]
  },
  {
   "cell_type": "code",
   "execution_count": 6,
   "metadata": {},
   "outputs": [],
   "source": [
    "chain_likes = sampler.get_blobs(flat=True).reshape(-1,1) # reshape is required to keep sklearn happy.\n",
    "flat_chain = sampler.get_chain(flat=True)"
   ]
  },
  {
   "cell_type": "markdown",
   "metadata": {},
   "source": [
    "Before we train our GP we standardize our samples and likelihoods, this helps with training."
   ]
  },
  {
   "cell_type": "code",
   "execution_count": 7,
   "metadata": {},
   "outputs": [],
   "source": [
    "yscaler = StandardScaler()\n",
    "xscaler = StandardScaler()\n",
    "\n",
    "trainy = yscaler.fit_transform(chain_likes)\n",
    "trainx = xscaler.fit_transform(flat_chain)"
   ]
  },
  {
   "cell_type": "markdown",
   "metadata": {},
   "source": [
    "Now we train our GP!"
   ]
  },
  {
   "cell_type": "code",
   "execution_count": 8,
   "metadata": {},
   "outputs": [
    {
     "data": {
      "text/plain": [
       "GaussianProcessRegressor(kernel=1**2 * RBF(length_scale=1),\n",
       "                         n_restarts_optimizer=9)"
      ]
     },
     "execution_count": 8,
     "metadata": {},
     "output_type": "execute_result"
    }
   ],
   "source": [
    "gaussian_process.fit(trainx, trainy)"
   ]
  },
  {
   "cell_type": "markdown",
   "metadata": {},
   "source": [
    "## MCMC with synthetic likelihood\n",
    "\n",
    "To run an MCMC using our GP to replace the likelihood evaluation we need to define some new functions for the log-likelihood and the log-probability."
   ]
  },
  {
   "cell_type": "code",
   "execution_count": 9,
   "metadata": {},
   "outputs": [],
   "source": [
    "def GPlike(theta):\n",
    "\n",
    "    return yscaler.inverse_transform(gaussian_process.predict(xscaler.transform(theta.reshape(1,-1))))[0]\n",
    "\n",
    "def GPpost(theta):\n",
    "    \n",
    "    return logprior(theta) + GPlike(theta)"
   ]
  },
  {
   "cell_type": "markdown",
   "metadata": {},
   "source": [
    "It should be noted that these functions now only take the parameters $\\theta$ as input. This highlights a downside to this method, that being that the GP has been trained to predict the likelihood evaulated for a given observation. This means we would have to retrain our GP if we wanted to analyse a different observation."
   ]
  },
  {
   "cell_type": "markdown",
   "metadata": {},
   "source": [
    "Now we run an MCMC with our GP likelihood. We monitor convergence in the same way as in `MCMC_zeus.ipynb`."
   ]
  },
  {
   "cell_type": "code",
   "execution_count": 10,
   "metadata": {},
   "outputs": [
    {
     "name": "stderr",
     "output_type": "stream",
     "text": [
      "Initialising ensemble of 10 walkers...\n",
      "Sampling progress :   3%|▎         | 1400/50000 [00:16<09:35, 84.51it/s]\n"
     ]
    }
   ],
   "source": [
    "cb0 = zeus.callbacks.MinIterCallback(nmin=1000)\n",
    "cb1 = zeus.callbacks.AutocorrelationCallback(ncheck=100, dact=0.01, nact=50, discard=0.5)\n",
    "\n",
    "max_steps = 50000 # The maximum number of steps to run the MCMC.\n",
    "num_dim = 2 # The number of dimensions of our problem.\n",
    "num_walkers = 10\n",
    "\n",
    "sampler = zeus.EnsembleSampler(num_walkers, num_dim, GPpost)\n",
    "sampler.run_mcmc(flat_chain[-np.random.choice(100,10),:], max_steps, callbacks=[cb0, cb1])"
   ]
  },
  {
   "cell_type": "markdown",
   "metadata": {},
   "source": [
    "We discard the first $10\\tau$ steps as we did in `MCMC_zeus.ipynb` and save the chain so it can be compared to the other methods."
   ]
  },
  {
   "cell_type": "code",
   "execution_count": 11,
   "metadata": {},
   "outputs": [],
   "source": [
    "discard = int(cb1.estimates[-1]*10)\n",
    "np.save(\"GP_samples\", sampler.get_chain(flat=True, discard=discard))"
   ]
  }
 ],
 "metadata": {
  "kernelspec": {
   "display_name": "tf_prob",
   "language": "python",
   "name": "tf_prob"
  },
  "language_info": {
   "codemirror_mode": {
    "name": "ipython",
    "version": 3
   },
   "file_extension": ".py",
   "mimetype": "text/x-python",
   "name": "python",
   "nbconvert_exporter": "python",
   "pygments_lexer": "ipython3",
   "version": "3.7.10"
  }
 },
 "nbformat": 4,
 "nbformat_minor": 4
}
